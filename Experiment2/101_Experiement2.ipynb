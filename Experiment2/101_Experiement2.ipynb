{
 "cells": [
  {
   "cell_type": "markdown",
   "metadata": {},
   "source": [
    "# PHYS 101/121 Experiment 2 Analysis"
   ]
  },
  {
   "cell_type": "markdown",
   "metadata": {},
   "source": [
    "In physics and in basic sciences and engineering, all the data analysis is done with computer. In order to do that you can use ready-made packages such as Microsoft Excel or Openoffice Calc; or you can consider to do it with a programming language where you can do alot of manipulations and use advanced techniques. We will use a very 'user-friendly', easy-to-learn programming language called Python. You can learn it by yourself with alot of resources on the net, it is quite easy. You can use links below. I will assume you have a basic familiarity with Python from now on. The platform we write our code is Jupyter Notebooks.\n",
    "\n",
    "* (Turkish) Python Programlamaya Giriş - Veri Defteri http://www.veridefteri.com/2017/12/08/temel-python-programlama-ilk-adimlar/\n",
    "* (English) Google Python Crash Course https://developers.google.com/edu/python/\n",
    "* (English) Introduction to Python for Data Science https://www.datacamp.com/courses/intro-to-python-for-data-science\n",
    "* (English) Various Courses in Coursera https://www.coursera.org/courses?languages=en&query=python"
   ]
  },
  {
   "cell_type": "markdown",
   "metadata": {},
   "source": [
    "We will analyze the data that we take during our experiement. Our data logger records the values of the collection of position (x). The sampling rate of the data logger is 10 data/second, so it collects 10 data points every seconds. We will first write down our position data values to an array, then, we will calculate the avarage velocities (v_ave). Then we will plot the average velocity vs time graph. Lastly we will fit a linear equation to our graph and get the parameters which one of them is the acceleration we are after."
   ]
  },
  {
   "cell_type": "markdown",
   "metadata": {},
   "source": [
    "First, we start with importing numerical package of Python, called 'numpy' and graphing library matplotlib. They need to be called beforehand in order to use. We will assign shorthands to the names of the librarys 'np' and 'plt' just for convenience."
   ]
  },
  {
   "cell_type": "code",
   "execution_count": 1,
   "metadata": {},
   "outputs": [],
   "source": [
    "import numpy as np\n",
    "from matplotlib import pyplot as plt"
   ]
  },
  {
   "cell_type": "markdown",
   "metadata": {},
   "source": [
    "We define our time interval starting with 0.5, increasing 1 by 1. Remember we will use the middle of the intervals (0.5, 1.5, 2.5 etc...) since we are calculating the avarage velocity correspoinding to those intervals. Avarage velocity is considered as the constant velecity in that interval and in that case it corresponds to the middle of that interval. We will use the np.arange() function in our case takes 3 parameters. First the starting value (inclusive), second the final value (not inclusive) and the third is the incremental size."
   ]
  },
  {
   "cell_type": "code",
   "execution_count": 2,
   "metadata": {},
   "outputs": [],
   "source": [
    "time = np.arange(0.05,1.1,0.1)"
   ]
  },
  {
   "cell_type": "code",
   "execution_count": 3,
   "metadata": {},
   "outputs": [
    {
     "data": {
      "text/plain": [
       "array([0.05, 0.15, 0.25, 0.35, 0.45, 0.55, 0.65, 0.75, 0.85, 0.95, 1.05])"
      ]
     },
     "execution_count": 3,
     "metadata": {},
     "output_type": "execute_result"
    }
   ],
   "source": [
    "#Let's see our time array\n",
    "time"
   ]
  },
  {
   "cell_type": "markdown",
   "metadata": {},
   "source": [
    "Then we write down our data points into an array, which is called x."
   ]
  },
  {
   "cell_type": "code",
   "execution_count": 4,
   "metadata": {},
   "outputs": [],
   "source": [
    "x = [0.168, 0.178, 0.187, 0.200, 0.212, 0.226, 0.242, 0.260, 0.281, 0.299, 0.321, 0.345]"
   ]
  },
  {
   "cell_type": "markdown",
   "metadata": {},
   "source": [
    "In order to calculate the avarage velocity we will need consecutive differecences of the positions. For instance:\n",
    "* dx_1 = 17.8 -16.8 = 1.0\n",
    "* dx_2 = 18.7 - 17.8 = 0.9 etc..\n",
    "\n",
    "There is a built-in function in numpy which does this automatically for all the elements in the numpy which is callednp.ediff1d()."
   ]
  },
  {
   "cell_type": "code",
   "execution_count": 5,
   "metadata": {},
   "outputs": [
    {
     "data": {
      "text/plain": [
       "array([0.01 , 0.009, 0.013, 0.012, 0.014, 0.016, 0.018, 0.021, 0.018,\n",
       "       0.022, 0.024])"
      ]
     },
     "execution_count": 5,
     "metadata": {},
     "output_type": "execute_result"
    }
   ],
   "source": [
    "dx = np.ediff1d(x)\n",
    "dx"
   ]
  },
  {
   "cell_type": "markdown",
   "metadata": {},
   "source": [
    "We calculate the avarage velocity for each interval by dividing the differences by time interval (which is 0.1 seconds for all). By the way, if you divide a numpy array by a number, it divides all the elements one by one. There are many such great functionalities of numpy, you should really consider learning it."
   ]
  },
  {
   "cell_type": "code",
   "execution_count": 6,
   "metadata": {},
   "outputs": [
    {
     "data": {
      "text/plain": [
       "array([0.1 , 0.09, 0.13, 0.12, 0.14, 0.16, 0.18, 0.21, 0.18, 0.22, 0.24])"
      ]
     },
     "execution_count": 6,
     "metadata": {},
     "output_type": "execute_result"
    }
   ],
   "source": [
    "v_ave = dx/0.1\n",
    "v_ave"
   ]
  },
  {
   "cell_type": "markdown",
   "metadata": {},
   "source": [
    "Let's plot our data. We will give labels to the axis and a name to our graph as well."
   ]
  },
  {
   "cell_type": "code",
   "execution_count": 7,
   "metadata": {},
   "outputs": [
    {
     "data": {
      "image/png": "[encoded data removed]",
      "text/plain": [
       "<Figure size 432x288 with 1 Axes>"
      ]
     },
     "metadata": {},
     "output_type": "display_data"
    }
   ],
   "source": [
    "plt.plot(time, v_ave, '.')\n",
    "plt.xlabel('Time (sec)')\n",
    "plt.ylabel('V_ave (m/s)')\n",
    "plt.title('Avarage Velocity vs Time Graph')\n",
    "plt.show() "
   ]
  },
  {
   "cell_type": "markdown",
   "metadata": {},
   "source": [
    "In order to fit a linear model ($y = mx + n$) to our data, we will use another Numpy method, np.polyfit. For this method we provide our x and y values and the degree which is 1 (linear). The output of the method gives two parameters, the slope and the intercept. The slope is the acceleration."
   ]
  },
  {
   "cell_type": "code",
   "execution_count": 8,
   "metadata": {},
   "outputs": [],
   "source": [
    "m, n = np.polyfit(time, v_ave, 1)"
   ]
  },
  {
   "cell_type": "code",
   "execution_count": 9,
   "metadata": {},
   "outputs": [
    {
     "name": "stdout",
     "output_type": "stream",
     "text": [
      "acceleration is:  0.145\n",
      "intercept is :  0.081\n"
     ]
    }
   ],
   "source": [
    "print('acceleration is: ', round(m,3))\n",
    "print('intercept is : ', round(n,3))"
   ]
  },
  {
   "cell_type": "markdown",
   "metadata": {},
   "source": [
    "At the end, we draw our model and data in the same plot. For this we create another time points which are more densely seperated and apply our model parameters in order to get $y = mt + n$."
   ]
  },
  {
   "cell_type": "code",
   "execution_count": 10,
   "metadata": {},
   "outputs": [
    {
     "data": {
      "image/png": "[encoded data removed]",
      "text/plain": [
       "<Figure size 432x288 with 1 Axes>"
      ]
     },
     "metadata": {},
     "output_type": "display_data"
    }
   ],
   "source": [
    "time_new = np.arange(0,1.1,0.05)\n",
    "model = m*time_new + n\n",
    "plt.plot(time_new, model,'r', label = 'model')\n",
    "plt.plot(time, v_ave, 'b.', label = 'data')\n",
    "plt.xlabel('Time (sec)')\n",
    "plt.ylabel('V_ave (m/s)')\n",
    "plt.title('Avarage Velocity vs Time Graph')\n",
    "plt.legend()\n",
    "plt.show()"
   ]
  },
  {
   "cell_type": "code",
   "execution_count": null,
   "metadata": {},
   "outputs": [],
   "source": []
  }
 ],
 "metadata": {
  "kernelspec": {
   "display_name": "Python 3",
   "language": "python",
   "name": "python3"
  },
  "language_info": {
   "codemirror_mode": {
    "name": "ipython",
    "version": 3
   },
   "file_extension": ".py",
   "mimetype": "text/x-python",
   "name": "python",
   "nbconvert_exporter": "python",
   "pygments_lexer": "ipython3",
   "version": "3.5.2"
  }
 },
 "nbformat": 4,
 "nbformat_minor": 2
}
